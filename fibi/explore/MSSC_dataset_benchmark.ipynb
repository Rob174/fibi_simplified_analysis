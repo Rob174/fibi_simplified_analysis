{
 "cells": [
  {
   "cell_type": "code",
   "execution_count": 1,
   "metadata": {},
   "outputs": [],
   "source": [
    "import sys\n",
    "sys.path.append(\"../../\")\n",
    "import fibi.src.pie_chart as pie_chart, fibi.src.statistical_test as statistical_test\n",
    "import pathlib as p\n",
    "import numpy as np\n",
    "import tqdm\n",
    "import pandas as pd\n",
    "root = p.Path(\"../data/algorithms_out/clustering/data_Clustering_Aloise benchmark.json\").resolve()\n",
    "root_folder = p.Path(\"../\").resolve()\n",
    "df = pd.read_json(root)"
   ]
  },
  {
   "cell_type": "code",
   "execution_count": 3,
   "metadata": {},
   "outputs": [],
   "source": [
    "list_cases_per_init = {}\n",
    "for initialization, df_init in df.groupby(\"IMPR\"):\n",
    "    L_cases = []\n",
    "    for instance, df_instance in df_init.groupby(\"INSTANCE\"):\n",
    "        df_instance.sort_values(by=\"SEED_GLOB\", inplace=True)\n",
    "        bi = df_instance.query(\"FI_BI == 'BI'\")[\"final_cost\"].to_numpy()\n",
    "        fi = df_instance.query(\"FI_BI == 'FI'\")[\"final_cost\"].to_numpy()\n",
    "        init = df_instance.query(\"FI_BI == 'FI'\")[\"init_cost\"].to_numpy()\n",
    "        diff = (bi-fi)/init\n",
    "        case = pie_chart.get_case_from_diff(\n",
    "            diff=diff,\n",
    "            maximization=False,\n",
    "            init_random=initialization == \"RAND\"\n",
    "        )\n",
    "        L_cases.append(case)\n",
    "\n",
    "    assert len(L_cases) > 0, \"More than 0 samples needed\"\n",
    "    # We build the input for the pie chart function (one list asssociated to the initialization random)\n",
    "    list_cases_per_init[initialization] = L_cases\n",
    "\n",
    "\n",
    "problem = \"mssc\"\n",
    "dataset = \"benchmark\"\n",
    "# We create the piechart\n",
    "figure_text = pie_chart.make_latex_piecharts_figure_for_datasets_of_problem(\n",
    "    list_cases_per_init=list_cases_per_init,\n",
    "    problem=problem,\n",
    "    dataset=dataset,\n",
    "    template_folder=root_folder / \"data\" / \"templates\" / \"latex\"\n",
    ")\n",
    "# And save it\n",
    "with open(root_folder / \"data\" / \"out_diagrams\" / f\"{problem}_{dataset}.tex\", \"w\", encoding=\"utf-8\") as fp:\n",
    "    fp.write(figure_text)"
   ]
  },
  {
   "cell_type": "code",
   "execution_count": null,
   "metadata": {},
   "outputs": [],
   "source": []
  }
 ],
 "metadata": {
  "kernelspec": {
   "display_name": "severityPrediction",
   "language": "python",
   "name": "python3"
  },
  "language_info": {
   "codemirror_mode": {
    "name": "ipython",
    "version": 3
   },
   "file_extension": ".py",
   "mimetype": "text/x-python",
   "name": "python",
   "nbconvert_exporter": "python",
   "pygments_lexer": "ipython3",
   "version": "3.9.18"
  }
 },
 "nbformat": 4,
 "nbformat_minor": 2
}
