{
 "cells": [
  {
   "cell_type": "code",
   "execution_count": 1,
   "metadata": {},
   "outputs": [],
   "source": [
    "import sys\n",
    "sys.path.append(\"../../\")\n",
    "import fibi.src.pie_chart as pie_chart, fibi.src.statistical_test as statistical_test\n",
    "import pathlib as p\n",
    "import numpy as np\n",
    "import tqdm\n",
    "root = p.Path(\"../data/algorithms_out/maxsat/random/\").resolve()\n",
    "root_folder = p.Path(\"../\").resolve()"
   ]
  },
  {
   "cell_type": "code",
   "execution_count": 2,
   "metadata": {},
   "outputs": [
    {
     "name": "stderr",
     "output_type": "stream",
     "text": [
      "100-1600-50-3:   7%|▋         | 7/96 [00:00<00:00, 317.67it/s] "
     ]
    },
    {
     "name": "stderr",
     "output_type": "stream",
     "text": [
      "90-2000-50-3:  99%|█████████▉| 95/96 [00:00<00:00, 299.69it/s]  "
     ]
    },
    {
     "name": "stderr",
     "output_type": "stream",
     "text": [
      "90-2000-50-3: 100%|██████████| 96/96 [00:20<00:00, 299.69it/s]"
     ]
    }
   ],
   "source": [
    "L_cases = []\n",
    "# We will read all files in the root folder of the output of the algorithm\n",
    "files = list(root.rglob(\"*.out\"))\n",
    "progress = tqdm.tqdm(total=len(files))\n",
    "for f in files:\n",
    "    progress.set_description(f\"{f.stem}\")\n",
    "    \n",
    "    # For each file we extract the differences and compute the subcase code\n",
    "    with open(f) as fp:\n",
    "        diff = np.array([float(l.strip().split()[-1]) for l in fp.readlines()])\n",
    "    L_cases.append(pie_chart.get_case_from_diff(\n",
    "        diff=diff,\n",
    "        maximization=True\n",
    "    ))\n",
    "    progress.update(1)\n",
    "\n",
    "assert len(L_cases) > 0, \"More than 0 samples needed\"\n",
    "# We build the input for the pie chart function (one list asssociated to the initialization random)\n",
    "list_cases_per_init = {\"random\": L_cases}\n",
    "problem =\"wMAXSAT\"\n",
    "dataset=\"random\"\n",
    "# We create the piechart\n",
    "figure_text = pie_chart.make_latex_piecharts_figure_for_datasets_of_problem(\n",
    "    list_cases_per_init=list_cases_per_init,\n",
    "    problem=problem,\n",
    "    dataset=dataset,\n",
    "    template_folder=root_folder / \"data\" / \"templates\" / \"latex\"\n",
    ")\n",
    "# And save it\n",
    "with open(root_folder / \"data\" / \"out_diagrams\" / f\"{problem}_{dataset}.tex\", \"w\", encoding=\"utf-8\") as fp:\n",
    "    fp.write(figure_text)"
   ]
  },
  {
   "cell_type": "code",
   "execution_count": null,
   "metadata": {},
   "outputs": [],
   "source": []
  }
 ],
 "metadata": {
  "kernelspec": {
   "display_name": "severityPrediction",
   "language": "python",
   "name": "python3"
  },
  "language_info": {
   "codemirror_mode": {
    "name": "ipython",
    "version": 3
   },
   "file_extension": ".py",
   "mimetype": "text/x-python",
   "name": "python",
   "nbconvert_exporter": "python",
   "pygments_lexer": "ipython3",
   "version": "3.9.18"
  }
 },
 "nbformat": 4,
 "nbformat_minor": 2
}
