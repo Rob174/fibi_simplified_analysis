{
 "cells": [
  {
   "cell_type": "code",
   "execution_count": 1,
   "metadata": {},
   "outputs": [],
   "source": [
    "import sys\n",
    "sys.path.append(\"../../\")\n",
    "import fibi.src.pie_chart as pie_chart, fibi.src.statistical_test as statistical_test\n",
    "import pathlib as p\n",
    "import numpy as np\n",
    "import tqdm\n",
    "root = p.Path(\"../data/algorithms_out/maxsat/\").resolve()\n",
    "root_folder = p.Path(\"../\").resolve()"
   ]
  },
  {
   "cell_type": "code",
   "execution_count": 5,
   "metadata": {},
   "outputs": [
    {
     "name": "stderr",
     "output_type": "stream",
     "text": [
      "100-1200-50-3:   3%|▎         | 3/96 [02:33<1:19:30, 51.29s/it]\n"
     ]
    },
    {
     "name": "stderr",
     "output_type": "stream",
     "text": [
      "90-2000-50-3: 100%|██████████| 96/96 [00:16<00:00,  5.87it/s] \n",
      "100-1000-100-3:   0%|          | 0/96 [00:00<?, ?it/s]"
     ]
    },
    {
     "ename": "KeyboardInterrupt",
     "evalue": "",
     "output_type": "error",
     "traceback": [
      "\u001b[1;31m---------------------------------------------------------------------------\u001b[0m",
      "\u001b[1;31mKeyboardInterrupt\u001b[0m                         Traceback (most recent call last)",
      "Cell \u001b[1;32mIn[5], line 17\u001b[0m\n\u001b[0;32m     12\u001b[0m         diff \u001b[38;5;241m=\u001b[39m np\u001b[38;5;241m.\u001b[39marray([\u001b[38;5;28mfloat\u001b[39m(l\u001b[38;5;241m.\u001b[39mstrip()\u001b[38;5;241m.\u001b[39msplit()[\u001b[38;5;241m-\u001b[39m\u001b[38;5;241m1\u001b[39m]) \u001b[38;5;28;01mfor\u001b[39;00m l \u001b[38;5;129;01min\u001b[39;00m fp\u001b[38;5;241m.\u001b[39mreadlines()]) \u001b[38;5;66;03m# (Bi-FI)/init\u001b[39;00m\n\u001b[0;32m     13\u001b[0m     case \u001b[38;5;241m=\u001b[39m pie_chart\u001b[38;5;241m.\u001b[39mget_case_from_diff(\n\u001b[0;32m     14\u001b[0m         diff\u001b[38;5;241m=\u001b[39mdiff,\n\u001b[0;32m     15\u001b[0m         maximization\u001b[38;5;241m=\u001b[39m\u001b[38;5;28;01mTrue\u001b[39;00m\n\u001b[0;32m     16\u001b[0m     )\n\u001b[1;32m---> 17\u001b[0m     \u001b[43mL_cases\u001b[49m\u001b[38;5;241m.\u001b[39mappend(case)\n\u001b[0;32m     18\u001b[0m     progress\u001b[38;5;241m.\u001b[39mupdate(\u001b[38;5;241m1\u001b[39m)\n\u001b[0;32m     20\u001b[0m \u001b[38;5;28;01massert\u001b[39;00m \u001b[38;5;28mlen\u001b[39m(L_cases) \u001b[38;5;241m>\u001b[39m \u001b[38;5;241m0\u001b[39m, \u001b[38;5;124m\"\u001b[39m\u001b[38;5;124mMore than 0 samples needed\u001b[39m\u001b[38;5;124m\"\u001b[39m\n",
      "Cell \u001b[1;32mIn[5], line 17\u001b[0m\n\u001b[0;32m     12\u001b[0m         diff \u001b[38;5;241m=\u001b[39m np\u001b[38;5;241m.\u001b[39marray([\u001b[38;5;28mfloat\u001b[39m(l\u001b[38;5;241m.\u001b[39mstrip()\u001b[38;5;241m.\u001b[39msplit()[\u001b[38;5;241m-\u001b[39m\u001b[38;5;241m1\u001b[39m]) \u001b[38;5;28;01mfor\u001b[39;00m l \u001b[38;5;129;01min\u001b[39;00m fp\u001b[38;5;241m.\u001b[39mreadlines()]) \u001b[38;5;66;03m# (Bi-FI)/init\u001b[39;00m\n\u001b[0;32m     13\u001b[0m     case \u001b[38;5;241m=\u001b[39m pie_chart\u001b[38;5;241m.\u001b[39mget_case_from_diff(\n\u001b[0;32m     14\u001b[0m         diff\u001b[38;5;241m=\u001b[39mdiff,\n\u001b[0;32m     15\u001b[0m         maximization\u001b[38;5;241m=\u001b[39m\u001b[38;5;28;01mTrue\u001b[39;00m\n\u001b[0;32m     16\u001b[0m     )\n\u001b[1;32m---> 17\u001b[0m     \u001b[43mL_cases\u001b[49m\u001b[38;5;241m.\u001b[39mappend(case)\n\u001b[0;32m     18\u001b[0m     progress\u001b[38;5;241m.\u001b[39mupdate(\u001b[38;5;241m1\u001b[39m)\n\u001b[0;32m     20\u001b[0m \u001b[38;5;28;01massert\u001b[39;00m \u001b[38;5;28mlen\u001b[39m(L_cases) \u001b[38;5;241m>\u001b[39m \u001b[38;5;241m0\u001b[39m, \u001b[38;5;124m\"\u001b[39m\u001b[38;5;124mMore than 0 samples needed\u001b[39m\u001b[38;5;124m\"\u001b[39m\n",
      "File \u001b[1;32m_pydevd_bundle/pydevd_cython.pyx:1457\u001b[0m, in \u001b[0;36m_pydevd_bundle.pydevd_cython.SafeCallWrapper.__call__\u001b[1;34m()\u001b[0m\n",
      "File \u001b[1;32m_pydevd_bundle/pydevd_cython.pyx:701\u001b[0m, in \u001b[0;36m_pydevd_bundle.pydevd_cython.PyDBFrame.trace_dispatch\u001b[1;34m()\u001b[0m\n",
      "File \u001b[1;32m_pydevd_bundle/pydevd_cython.pyx:1152\u001b[0m, in \u001b[0;36m_pydevd_bundle.pydevd_cython.PyDBFrame.trace_dispatch\u001b[1;34m()\u001b[0m\n",
      "File \u001b[1;32m_pydevd_bundle/pydevd_cython.pyx:1135\u001b[0m, in \u001b[0;36m_pydevd_bundle.pydevd_cython.PyDBFrame.trace_dispatch\u001b[1;34m()\u001b[0m\n",
      "File \u001b[1;32m_pydevd_bundle/pydevd_cython.pyx:312\u001b[0m, in \u001b[0;36m_pydevd_bundle.pydevd_cython.PyDBFrame.do_wait_suspend\u001b[1;34m()\u001b[0m\n",
      "File \u001b[1;32mc:\\Users\\robin\\miniconda3\\envs\\severityPrediction\\lib\\site-packages\\debugpy\\_vendored\\pydevd\\pydevd.py:2070\u001b[0m, in \u001b[0;36mPyDB.do_wait_suspend\u001b[1;34m(self, thread, frame, event, arg, exception_type)\u001b[0m\n\u001b[0;32m   2067\u001b[0m             from_this_thread\u001b[38;5;241m.\u001b[39mappend(frame_custom_thread_id)\n\u001b[0;32m   2069\u001b[0m     \u001b[38;5;28;01mwith\u001b[39;00m \u001b[38;5;28mself\u001b[39m\u001b[38;5;241m.\u001b[39m_threads_suspended_single_notification\u001b[38;5;241m.\u001b[39mnotify_thread_suspended(thread_id, thread, stop_reason):\n\u001b[1;32m-> 2070\u001b[0m         keep_suspended \u001b[38;5;241m=\u001b[39m \u001b[38;5;28;43mself\u001b[39;49m\u001b[38;5;241;43m.\u001b[39;49m\u001b[43m_do_wait_suspend\u001b[49m\u001b[43m(\u001b[49m\u001b[43mthread\u001b[49m\u001b[43m,\u001b[49m\u001b[43m \u001b[49m\u001b[43mframe\u001b[49m\u001b[43m,\u001b[49m\u001b[43m \u001b[49m\u001b[43mevent\u001b[49m\u001b[43m,\u001b[49m\u001b[43m \u001b[49m\u001b[43marg\u001b[49m\u001b[43m,\u001b[49m\u001b[43m \u001b[49m\u001b[43msuspend_type\u001b[49m\u001b[43m,\u001b[49m\u001b[43m \u001b[49m\u001b[43mfrom_this_thread\u001b[49m\u001b[43m,\u001b[49m\u001b[43m \u001b[49m\u001b[43mframes_tracker\u001b[49m\u001b[43m)\u001b[49m\n\u001b[0;32m   2072\u001b[0m frames_list \u001b[38;5;241m=\u001b[39m \u001b[38;5;28;01mNone\u001b[39;00m\n\u001b[0;32m   2074\u001b[0m \u001b[38;5;28;01mif\u001b[39;00m keep_suspended:\n\u001b[0;32m   2075\u001b[0m     \u001b[38;5;66;03m# This means that we should pause again after a set next statement.\u001b[39;00m\n",
      "File \u001b[1;32mc:\\Users\\robin\\miniconda3\\envs\\severityPrediction\\lib\\site-packages\\debugpy\\_vendored\\pydevd\\pydevd.py:2106\u001b[0m, in \u001b[0;36mPyDB._do_wait_suspend\u001b[1;34m(self, thread, frame, event, arg, suspend_type, from_this_thread, frames_tracker)\u001b[0m\n\u001b[0;32m   2103\u001b[0m         \u001b[38;5;28mself\u001b[39m\u001b[38;5;241m.\u001b[39m_call_input_hook()\n\u001b[0;32m   2105\u001b[0m     \u001b[38;5;28mself\u001b[39m\u001b[38;5;241m.\u001b[39mprocess_internal_commands()\n\u001b[1;32m-> 2106\u001b[0m     \u001b[43mtime\u001b[49m\u001b[38;5;241;43m.\u001b[39;49m\u001b[43msleep\u001b[49m\u001b[43m(\u001b[49m\u001b[38;5;241;43m0.01\u001b[39;49m\u001b[43m)\u001b[49m\n\u001b[0;32m   2108\u001b[0m \u001b[38;5;28mself\u001b[39m\u001b[38;5;241m.\u001b[39mcancel_async_evaluation(get_current_thread_id(thread), \u001b[38;5;28mstr\u001b[39m(\u001b[38;5;28mid\u001b[39m(frame)))\n\u001b[0;32m   2110\u001b[0m \u001b[38;5;66;03m# process any stepping instructions\u001b[39;00m\n",
      "\u001b[1;31mKeyboardInterrupt\u001b[0m: "
     ]
    }
   ],
   "source": [
    "list_cases_per_init = {}\n",
    "for init in [\"random\", \"greedy\"]:\n",
    "    L_cases = []\n",
    "    # We will read all files in the root folder of the output of the algorithm\n",
    "    files = list((root / init).rglob(\"*.out\"))\n",
    "    progress = tqdm.tqdm(total=len(files))\n",
    "    for f in files:\n",
    "        progress.set_description(f\"{f.stem}\")\n",
    "        \n",
    "        # For each file w\n",
    "        # e extract the differences and compute the subcase code\n",
    "        with open(f) as fp:\n",
    "            diff = np.array([float(l.strip().split()[-1]) for l in fp.readlines()]) # (Bi-FI)/init\n",
    "        case = pie_chart.get_case_from_diff(\n",
    "            diff=diff,\n",
    "            maximization=True,\n",
    "            init_random=init == \"random\"\n",
    "        )\n",
    "        L_cases.append(case)\n",
    "        progress.update(1)\n",
    "\n",
    "    assert len(L_cases) > 0, \"More than 0 samples needed\"\n",
    "    # We build the input for the pie chart function (one list asssociated to the initialization random)\n",
    "    list_cases_per_init[init] = L_cases\n",
    "\n",
    "\n",
    "problem = \"wMAXSAT\"\n",
    "dataset = \"random\"\n",
    "# We create the piechart\n",
    "figure_text = pie_chart.make_latex_piecharts_figure_for_datasets_of_problem(\n",
    "    list_cases_per_init=list_cases_per_init,\n",
    "    problem=problem,\n",
    "    dataset=dataset,\n",
    "    template_folder=root_folder / \"data\" / \"templates\" / \"latex\"\n",
    ")\n",
    "# And save it\n",
    "with open(root_folder / \"data\" / \"out_diagrams\" / f\"{problem}_{dataset}.tex\", \"w\", encoding=\"utf-8\") as fp:\n",
    "    fp.write(figure_text)"
   ]
  },
  {
   "cell_type": "code",
   "execution_count": null,
   "metadata": {},
   "outputs": [],
   "source": []
  }
 ],
 "metadata": {
  "kernelspec": {
   "display_name": "severityPrediction",
   "language": "python",
   "name": "python3"
  },
  "language_info": {
   "codemirror_mode": {
    "name": "ipython",
    "version": 3
   },
   "file_extension": ".py",
   "mimetype": "text/x-python",
   "name": "python",
   "nbconvert_exporter": "python",
   "pygments_lexer": "ipython3",
   "version": "3.9.18"
  }
 },
 "nbformat": 4,
 "nbformat_minor": 2
}
